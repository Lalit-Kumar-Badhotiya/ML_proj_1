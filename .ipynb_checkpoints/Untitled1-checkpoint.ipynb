{
 "cells": [
  {
   "cell_type": "code",
   "execution_count": 2,
   "id": "19ca6adb-43a1-43ee-ad97-fcf1b2262183",
   "metadata": {},
   "outputs": [
    {
     "name": "stdout",
     "output_type": "stream",
     "text": [
      "Collecting dlib\n",
      "  Using cached dlib-19.24.6.tar.gz (3.4 MB)\n",
      "  Preparing metadata (setup.py): started\n",
      "  Preparing metadata (setup.py): finished with status 'done'\n",
      "Building wheels for collected packages: dlib\n",
      "  Building wheel for dlib (setup.py): started\n",
      "  Building wheel for dlib (setup.py): finished with status 'error'\n",
      "  Running setup.py clean for dlib\n",
      "Failed to build dlib\n",
      "Note: you may need to restart the kernel to use updated packages.\n"
     ]
    },
    {
     "name": "stderr",
     "output_type": "stream",
     "text": [
      "  error: subprocess-exited-with-error\n",
      "  \n",
      "  python setup.py bdist_wheel did not run successfully.\n",
      "  exit code: 1\n",
      "  \n",
      "  [47 lines of output]\n",
      "  C:\\Users\\lalit\\AppData\\Local\\Temp\\pip-install-gswj64wh\\dlib_c877d6ed627b435880c54c1b6ef1eef1\\setup.py:234: SyntaxWarning: invalid escape sequence '\\('\n",
      "    major = re.findall(\"set\\(CPACK_PACKAGE_VERSION_MAJOR.*\\\"(.*)\\\"\", open(cmake_file).read())[0]\n",
      "  C:\\Users\\lalit\\AppData\\Local\\Temp\\pip-install-gswj64wh\\dlib_c877d6ed627b435880c54c1b6ef1eef1\\setup.py:235: SyntaxWarning: invalid escape sequence '\\('\n",
      "    minor = re.findall(\"set\\(CPACK_PACKAGE_VERSION_MINOR.*\\\"(.*)\\\"\", open(cmake_file).read())[0]\n",
      "  C:\\Users\\lalit\\AppData\\Local\\Temp\\pip-install-gswj64wh\\dlib_c877d6ed627b435880c54c1b6ef1eef1\\setup.py:236: SyntaxWarning: invalid escape sequence '\\('\n",
      "    patch = re.findall(\"set\\(CPACK_PACKAGE_VERSION_PATCH.*\\\"(.*)\\\"\", open(cmake_file).read())[0]\n",
      "  running bdist_wheel\n",
      "  running build\n",
      "  running build_ext\n",
      "  \n",
      "  ================================================================================\n",
      "  ================================================================================\n",
      "  ================================================================================\n",
      "  \n",
      "                     CMake is not installed on your system!\n",
      "  \n",
      "      Or it is possible some broken copy of cmake is installed on your system.\n",
      "      It is unfortunately very common for python package managers to include\n",
      "      broken copies of cmake.  So if the error above this refers to some file\n",
      "      path to a cmake file inside a python or anaconda or miniconda path then you\n",
      "      should delete that broken copy of cmake from your computer.\n",
      "  \n",
      "      Instead, please get an official copy of cmake from one of these known good\n",
      "      sources of an official cmake:\n",
      "          - cmake.org (this is how windows users should get cmake)\n",
      "          - apt install cmake (for Ubuntu or Debian based systems)\n",
      "          - yum install cmake (for Redhat or CenOS based systems)\n",
      "  \n",
      "      On a linux machine you can run `which cmake` to see what cmake you are\n",
      "      actually using.  If it tells you it's some cmake from any kind of python\n",
      "      packager delete it and install an official cmake.\n",
      "  \n",
      "      More generally, cmake is not installed if when you open a terminal window\n",
      "      and type\n",
      "         cmake --version\n",
      "      you get an error.  So you can use that as a very basic test to see if you\n",
      "      have cmake installed.  That is, if cmake --version doesn't run from the\n",
      "      same terminal window from which you are reading this error message, then\n",
      "      you have not installed cmake.  Windows users should take note that they\n",
      "      need to tell the cmake installer to add cmake to their PATH.  Since you\n",
      "      can't run commands that are not in your PATH.  This is how the PATH works\n",
      "      on Linux as well, but failing to add cmake to the PATH is a particularly\n",
      "      common problem on windows and rarely a problem on Linux.\n",
      "  \n",
      "  ================================================================================\n",
      "  ================================================================================\n",
      "  ================================================================================\n",
      "  [end of output]\n",
      "  \n",
      "  note: This error originates from a subprocess, and is likely not a problem with pip.\n",
      "  ERROR: Failed building wheel for dlib\n",
      "ERROR: ERROR: Failed to build installable wheels for some pyproject.toml based projects (dlib)\n"
     ]
    }
   ],
   "source": [
    "pip install dlib\n"
   ]
  },
  {
   "cell_type": "code",
   "execution_count": null,
   "id": "ce378079-75d6-4cdc-b2cc-0ac4da3018f3",
   "metadata": {},
   "outputs": [],
   "source": []
  }
 ],
 "metadata": {
  "kernelspec": {
   "display_name": "Python [conda env:base] *",
   "language": "python",
   "name": "conda-base-py"
  },
  "language_info": {
   "codemirror_mode": {
    "name": "ipython",
    "version": 3
   },
   "file_extension": ".py",
   "mimetype": "text/x-python",
   "name": "python",
   "nbconvert_exporter": "python",
   "pygments_lexer": "ipython3",
   "version": "3.12.7"
  }
 },
 "nbformat": 4,
 "nbformat_minor": 5
}
